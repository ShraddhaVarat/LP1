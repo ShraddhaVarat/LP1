{
  "nbformat": 4,
  "nbformat_minor": 0,
  "metadata": {
    "colab": {
      "name": "HPC3.ipynb",
      "provenance": [],
      "collapsed_sections": []
    },
    "kernelspec": {
      "name": "python3",
      "display_name": "Python 3"
    },
    "accelerator": "GPU"
  },
  "cells": [
    {
      "cell_type": "code",
      "metadata": {
        "id": "h-2Rvx8oQnji",
        "colab_type": "code",
        "outputId": "fe0464cb-9dbc-4a3b-c491-db2217d66b75",
        "colab": {
          "base_uri": "https://localhost:8080/",
          "height": 86
        }
      },
      "source": [
        "!nvcc --version"
      ],
      "execution_count": 0,
      "outputs": [
        {
          "output_type": "stream",
          "text": [
            "nvcc: NVIDIA (R) Cuda compiler driver\n",
            "Copyright (c) 2005-2018 NVIDIA Corporation\n",
            "Built on Sat_Aug_25_21:08:01_CDT_2018\n",
            "Cuda compilation tools, release 10.0, V10.0.130\n"
          ],
          "name": "stdout"
        }
      ]
    },
    {
      "cell_type": "code",
      "metadata": {
        "id": "IQ3YEOQpQthn",
        "colab_type": "code",
        "colab": {}
      },
      "source": [
        "code= \"\"\"\n",
        "\n",
        "#include<stdio.h>\n",
        "#include<omp.h>\n",
        "#include<stdlib.h>\n",
        "#include<time.h>\n",
        "\n",
        "void mergesort(int *a,int i,int j);\n",
        "void mergesortserial(int *a,int i,int j);\n",
        "void merge(int *a,int i1,int j1,int i2,int j2);\n",
        "\n",
        "int main()\n",
        "{\n",
        "    int *a,num;\n",
        "    \n",
        "    scanf(\"%d\",&num);\n",
        "    \n",
        "    a = (int *)malloc(sizeof(int)*num);\n",
        "    \n",
        "    for(int i=0;i<num;i++)\n",
        "    {\n",
        "      a[i]=rand()%num+1;\n",
        "    }\n",
        "    \n",
        "    double start,end;\n",
        "    start = omp_get_wtime();\n",
        "    mergesortserial(a,0,num-1);\n",
        "    end = omp_get_wtime();\n",
        "    \n",
        "    printf(\"Time serial: %lf\",end-start);\n",
        "    \n",
        "    start = omp_get_wtime();\n",
        "    mergesort(a,0,num-1);\n",
        "    end = omp_get_wtime();\n",
        "    \n",
        "    printf(\"Time parallel :%lf\",end-start);\n",
        "    \n",
        "    for(int i=0;i<num;i++)\n",
        "    {\n",
        "      printf(\"%d\",a[i]);\n",
        "    }\n",
        "\n",
        "}\n",
        "\n",
        "void mergesort(int *a,int i,int j)\n",
        "{\n",
        "   int mid;\n",
        "   \n",
        "   if(i<j)\n",
        "   {\n",
        "      mid=(i+j)/2;\n",
        "      \n",
        "      #pragma omp parallel sections\n",
        "      {\n",
        "        #pragma omp section\n",
        "        {\n",
        "            mergesort(a,0,mid);\n",
        "        }\n",
        "        #pragma omp section\n",
        "        {\n",
        "            mergesort(a,mid+1,j);\n",
        "        }\n",
        "      }\n",
        "      merge(a,0,mid,mid+1,j);\n",
        "   }\n",
        "}\n",
        "\n",
        "void mergesortserial(int *a,int i,int j)\n",
        "{\n",
        "   int mid;\n",
        "   \n",
        "   if(i<j)\n",
        "   {\n",
        "      mid=(i+j)/2;\n",
        "      \n",
        "      mergesort(a,0,mid);\n",
        "        \n",
        "      mergesort(a,mid+1,j);\n",
        "        \n",
        "      merge(a,0,mid,mid+1,j);\n",
        "   }\n",
        "}\n",
        "\n",
        "void merge(int *a,int i1,int j1,int i2,int j2)\n",
        "{\n",
        "    int arr[1000];\n",
        "    \n",
        "    int i=i1,j=i2;\n",
        "    int k=0;\n",
        "    \n",
        "    while(i<=j1 && j<=j2)\n",
        "    {\n",
        "      if(a[i]<a[j])\n",
        "        arr[k++]=a[i++];\n",
        "      else\n",
        "        arr[k++]=a[j++];\n",
        "    }\n",
        "    \n",
        "    while(i<=j1)\n",
        "      arr[k++]=a[i++];\n",
        "      \n",
        "    while(j<=j2)\n",
        "      arr[k++]=a[j++];\n",
        "      \n",
        "    for(i=i1;i<=j2;i++)\n",
        "    {\n",
        "      a[i]=arr[i];\n",
        "    }\n",
        "}\n",
        "\"\"\""
      ],
      "execution_count": 0,
      "outputs": []
    },
    {
      "cell_type": "code",
      "metadata": {
        "id": "TC6u53ggXfwp",
        "colab_type": "code",
        "colab": {}
      },
      "source": [
        "text_file = open('sort.c',\"w\")\n",
        "text_file.write(code)\n",
        "text_file.close()"
      ],
      "execution_count": 0,
      "outputs": []
    },
    {
      "cell_type": "code",
      "metadata": {
        "id": "HJwPW-t0Xqgm",
        "colab_type": "code",
        "colab": {}
      },
      "source": [
        "!gcc -o sort -fopenmp sort.c"
      ],
      "execution_count": 0,
      "outputs": []
    },
    {
      "cell_type": "code",
      "metadata": {
        "id": "37vvL1wOX6QL",
        "colab_type": "code",
        "outputId": "c180da3a-8f3d-47a9-d0bc-b0e422995341",
        "colab": {
          "base_uri": "https://localhost:8080/",
          "height": 51
        }
      },
      "source": [
        "!./sort"
      ],
      "execution_count": 0,
      "outputs": [
        {
          "output_type": "stream",
          "text": [
            "5\n",
            "Time serial: 0.000211Time parallel :0.00004012344"
          ],
          "name": "stdout"
        }
      ]
    },
    {
      "cell_type": "code",
      "metadata": {
        "id": "ttl4ShzVYgV1",
        "colab_type": "code",
        "colab": {}
      },
      "source": [
        "code1=\"\"\"\n",
        "\n",
        "#include<stdio.h>\n",
        "#include<stdlib.h>\n",
        "#include<omp.h>\n",
        "#include<time.h>\n",
        "\n",
        "void bubblesort(int *a,int n);\n",
        "void simplebubble(int *a,int n);\n",
        "\n",
        "int main()\n",
        "{\n",
        "    int *a,n,*b;\n",
        "    \n",
        "    scanf(\"%d\",&n);\n",
        "    \n",
        "    a=(int *)malloc(sizeof(int)*n);\n",
        "    b=(int *)malloc(sizeof(int)*n);\n",
        "    for(int i=0;i<n;i++)\n",
        "    {\n",
        "      a[i]=rand()%n+1;\n",
        "      b[i]=a[i];\n",
        "    }\n",
        "      \n",
        "      \n",
        "    double start,end;\n",
        "    start = omp_get_wtime();\n",
        "    simplebubble(a,n);\n",
        "    end = omp_get_wtime();\n",
        "     \n",
        "    printf(\"%lf\",end-start);\n",
        "    \n",
        "    start = omp_get_wtime();\n",
        "    bubblesort(b,n);\n",
        "    end = omp_get_wtime();\n",
        "    \n",
        "    \n",
        "    printf(\"%lf\",end-start);\n",
        "    for(int i=0;i<n;i++)\n",
        "      printf(\"%d\",a[i]);\n",
        "      \n",
        "}\n",
        "\n",
        "void simplebubble(int *a, int n)\n",
        "{\n",
        "    for(int i=0;i<n-1;i++)\n",
        "    {\n",
        "        for(int j=0;j<n-1-i;j++)\n",
        "        {\n",
        "            if(a[j]>a[j+1])\n",
        "            {\n",
        "                int temp=a[j+1];\n",
        "                a[j+1]=a[j];\n",
        "                a[j]=temp;\n",
        "            }\n",
        "        }\n",
        "   }     \n",
        "}\n",
        "\n",
        "\n",
        "void bubblesort(int *a,int n)\n",
        "{\n",
        "\n",
        "  for(int i=0;i<n;i++)\n",
        "  {\n",
        "      if(i%2==0)\n",
        "      {\n",
        "              #pragma omp parallel for\n",
        "              for(int j=0;j<n;j+=2)\n",
        "              {\n",
        "                  if(j+1<n && a[j]>a[j+1])\n",
        "                  {\n",
        "                      int temp=a[j];\n",
        "                      a[j]=a[j+1];\n",
        "                      a[j+1]=temp;\n",
        "                  }\n",
        "              }\n",
        "          \n",
        "      }\n",
        "      else\n",
        "      {\n",
        "              #pragma omp parallel for\n",
        "              for(int j=1;j<n-1;j+=2)\n",
        "              {\n",
        "                  if(j+1<n && a[j]>a[j+1])\n",
        "                  {\n",
        "                      int temp=a[j];\n",
        "                      a[j]=a[j+1];\n",
        "                      a[j+1]=temp;\n",
        "                  }\n",
        "              }\n",
        "          \n",
        "      }\n",
        "  }\n",
        "}\n",
        "\n",
        "\n",
        "\n",
        "\"\"\""
      ],
      "execution_count": 0,
      "outputs": []
    },
    {
      "cell_type": "code",
      "metadata": {
        "id": "TaNdHLx7j437",
        "colab_type": "code",
        "colab": {}
      },
      "source": [
        "f1 = open('sort1.c','w')\n",
        "f1.write(code1)\n",
        "f1.close()"
      ],
      "execution_count": 0,
      "outputs": []
    },
    {
      "cell_type": "code",
      "metadata": {
        "id": "sXxlK9PjkCLs",
        "colab_type": "code",
        "colab": {}
      },
      "source": [
        "!gcc -o sort1 -fopenmp sort1.c"
      ],
      "execution_count": 0,
      "outputs": []
    },
    {
      "cell_type": "code",
      "metadata": {
        "id": "rA2wrgsFkKcD",
        "colab_type": "code",
        "colab": {}
      },
      "source": [
        "!./sort1"
      ],
      "execution_count": 0,
      "outputs": []
    },
    {
      "cell_type": "code",
      "metadata": {
        "id": "v9kBkCxTGzgU",
        "colab_type": "code",
        "colab": {}
      },
      "source": [
        "#cpp"
      ],
      "execution_count": 0,
      "outputs": []
    },
    {
      "cell_type": "code",
      "metadata": {
        "id": "54xa3-8Z37Wd",
        "colab_type": "code",
        "colab": {}
      },
      "source": [
        "codeb=\"\"\"\n",
        "\n",
        "#include<bits/stdc++.h>\n",
        "#define SIZE 2000\n",
        "using namespace std;\n",
        "\n",
        "void bubblesort(int *a)\n",
        "{\n",
        "\tfor(int i=0;i<SIZE;i++)\n",
        "\t{\n",
        "\t\tfor(int j=0;j<SIZE-1;j++)\n",
        "\t\t{\n",
        "\t\t\tif(a[j]>a[j+1])\n",
        "\t\t\t{\n",
        "\t\t\t\tswap(a[j],a[j+1]);\n",
        "\t\t\t}\n",
        "\t\t}\n",
        "\t}\n",
        "}\n",
        "\n",
        "void parallel_bubblesort(int *a)\n",
        "{\n",
        "\tfor(int i=0;i<SIZE;i++)\n",
        "\t{\n",
        "\t\tint first = i%2;\n",
        "\n",
        "\t\t#pragma omp parallel for default(none),shared(a,first)\n",
        "\t\tfor(int j=first;j<SIZE-1;j=j+1)\n",
        "\t\t{\n",
        "\t\t\tif(a[j] > a[j+1]){\n",
        "\t\t\t\tswap(a[j], a[j+1]);\n",
        "\t\t\t}\n",
        "\t\t}\n",
        "\t}\n",
        "}\n",
        "\n",
        "int main()\n",
        "{\n",
        "\tint *a,*b;\n",
        "\ta = (int *)malloc(SIZE*sizeof(int));\n",
        "\tb = (int *)malloc(SIZE*sizeof(int));\n",
        "\t\n",
        "\tfor(int i=0;i<SIZE;i++)\n",
        "\t{\n",
        "\t\ta[i]=rand()%324392;\n",
        "\t\tb[i]=a[i];\n",
        "\t\t\n",
        "\t}\n",
        "\n",
        "\tclock_t timer = clock();\n",
        "\tbubblesort(a);\n",
        "\tcout<<\"Time taken for serial bubble sort\"<<(float)(clock() - timer)/CLOCKS_PER_SEC;\n",
        "\tcout<<\"\\n\";\n",
        "\ttimer = clock();\n",
        "\tparallel_bubblesort(b);\n",
        "\tcout<<\"Time taken for parallel bubble sort\"<<(float)(clock()-timer)/CLOCKS_PER_SEC;\n",
        "\tfor(int i = 0;i < SIZE;i ++){\n",
        "\t\tif(a[i] != b[i]){\n",
        "\t\t\tcout << \"\\nIncorrect result\";\n",
        "\t\t\tbreak;\n",
        "\t\t}\n",
        "\t}\n",
        "\n",
        "}\n",
        "\"\"\""
      ],
      "execution_count": 0,
      "outputs": []
    },
    {
      "cell_type": "code",
      "metadata": {
        "id": "C65gNRuw4KNW",
        "colab_type": "code",
        "colab": {}
      },
      "source": [
        "fz = open('sortb.cpp','w')\n",
        "fz.write(codeb)\n",
        "fz.close()"
      ],
      "execution_count": 0,
      "outputs": []
    },
    {
      "cell_type": "code",
      "metadata": {
        "id": "fPMrgKYX4Pe6",
        "colab_type": "code",
        "colab": {}
      },
      "source": [
        "!g++ -fopenmp sortb.cpp"
      ],
      "execution_count": 0,
      "outputs": []
    },
    {
      "cell_type": "code",
      "metadata": {
        "id": "gZU4NzsI4Zmm",
        "colab_type": "code",
        "colab": {}
      },
      "source": [
        ""
      ],
      "execution_count": 0,
      "outputs": []
    }
  ]
}
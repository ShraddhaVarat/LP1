{
  "nbformat": 4,
  "nbformat_minor": 0,
  "metadata": {
    "colab": {
      "name": "HPC2.ipynb",
      "provenance": [],
      "collapsed_sections": []
    },
    "kernelspec": {
      "name": "python3",
      "display_name": "Python 3"
    },
    "accelerator": "GPU"
  },
  "cells": [
    {
      "cell_type": "code",
      "metadata": {
        "id": "Ae2MULlVbzWh",
        "colab_type": "code",
        "outputId": "912800e0-9410-430b-8741-7e5a63597c9a",
        "colab": {
          "base_uri": "https://localhost:8080/",
          "height": 85
        }
      },
      "source": [
        "!nvcc --version"
      ],
      "execution_count": 0,
      "outputs": [
        {
          "output_type": "stream",
          "text": [
            "nvcc: NVIDIA (R) Cuda compiler driver\n",
            "Copyright (c) 2005-2018 NVIDIA Corporation\n",
            "Built on Sat_Aug_25_21:08:01_CDT_2018\n",
            "Cuda compilation tools, release 10.0, V10.0.130\n"
          ],
          "name": "stdout"
        }
      ]
    },
    {
      "cell_type": "code",
      "metadata": {
        "id": "XiOl6ZgPiCXf",
        "colab_type": "code",
        "outputId": "623237ce-d68a-42ca-d955-982963f9e97a",
        "colab": {
          "base_uri": "https://localhost:8080/",
          "height": 207
        }
      },
      "source": [
        "!pip install git+git://github.com/andreinechaev/nvcc4jupyter.git"
      ],
      "execution_count": 0,
      "outputs": [
        {
          "output_type": "stream",
          "text": [
            "Collecting git+git://github.com/andreinechaev/nvcc4jupyter.git\n",
            "  Cloning git://github.com/andreinechaev/nvcc4jupyter.git to /tmp/pip-req-build-bh0yyfi2\n",
            "  Running command git clone -q git://github.com/andreinechaev/nvcc4jupyter.git /tmp/pip-req-build-bh0yyfi2\n",
            "Building wheels for collected packages: NVCCPlugin\n",
            "  Building wheel for NVCCPlugin (setup.py) ... \u001b[?25l\u001b[?25hdone\n",
            "  Created wheel for NVCCPlugin: filename=NVCCPlugin-0.0.2-cp36-none-any.whl size=4307 sha256=1452ff82eb286f252f25320a66faabc2b6075bd36c5c3a2cb421cad6e5b6123b\n",
            "  Stored in directory: /tmp/pip-ephem-wheel-cache-8uufg0k4/wheels/10/c2/05/ca241da37bff77d60d31a9174f988109c61ba989e4d4650516\n",
            "Successfully built NVCCPlugin\n",
            "Installing collected packages: NVCCPlugin\n",
            "Successfully installed NVCCPlugin-0.0.2\n"
          ],
          "name": "stdout"
        }
      ]
    },
    {
      "cell_type": "code",
      "metadata": {
        "id": "iWMe7JHEiGJ9",
        "colab_type": "code",
        "outputId": "6676822a-18e8-4419-c63d-2f4f456f55d5",
        "colab": {
          "base_uri": "https://localhost:8080/",
          "height": 51
        }
      },
      "source": [
        "%load_ext nvcc_plugin"
      ],
      "execution_count": 0,
      "outputs": [
        {
          "output_type": "stream",
          "text": [
            "created output directory at /content/src\n",
            "Out bin /content/result.out\n"
          ],
          "name": "stdout"
        }
      ]
    },
    {
      "cell_type": "code",
      "metadata": {
        "id": "eEryao6Cb8ps",
        "colab_type": "code",
        "outputId": "c513b6f7-40c1-4869-81a1-905cd8a76403",
        "colab": {
          "base_uri": "https://localhost:8080/",
          "height": 68
        }
      },
      "source": [
        "%%cu\n",
        "\n",
        "#include<stdio.h>\n",
        "#define N 4\n",
        "\n",
        "__global__ void add(int *a,int *b,int *c,int n)\n",
        "{\n",
        "    int id=threadIdx.x+ blockDim.x * blockIdx.x;\n",
        "    \n",
        "    if(id<n)\n",
        "      c[id]=a[id]+b[id];\n",
        "}\n",
        "\n",
        "int main()\n",
        "{\n",
        "  int* a;\n",
        "  int* b;\n",
        "  int* c;\n",
        "  \n",
        "  a=(int *)malloc(sizeof(int)*N);\n",
        "  b=(int *)malloc(sizeof(int)*N);\n",
        "  c=(int *)malloc(sizeof(int)*N);\n",
        "  \n",
        "  for(int i=0;i<N;i++)\n",
        "  {\n",
        "      a[i]=i;\n",
        "      b[i]=i+1;\n",
        "  }\n",
        "  \n",
        "  for(int i=0;i<N;i++)\n",
        "  {\n",
        "      printf(\"%d\\t\",a[i]);\n",
        "  }\n",
        "   \n",
        "  printf(\"\\n\");\n",
        "  \n",
        "  for(int i=0;i<N;i++)\n",
        "  {\n",
        "      printf(\"%d\\t\",b[i]);\n",
        "  }\n",
        "   \n",
        "  printf(\"\\n\");\n",
        "  \n",
        "  \n",
        "  int* d_a;\n",
        "  int* d_b;\n",
        "  int* d_c; \n",
        "  cudaMalloc(&d_a,sizeof(int)*N);\n",
        "  cudaMalloc(&d_b,sizeof(int)*N);\n",
        "  cudaMalloc(&d_c,sizeof(int)*N);\n",
        "   \n",
        "  cudaMemcpy(d_a,a,sizeof(int)*N,cudaMemcpyHostToDevice);\n",
        "  cudaMemcpy(d_b,b,sizeof(int)*N,cudaMemcpyHostToDevice);\n",
        "  \n",
        "  add <<<2,N/2>>> (d_a,d_b,d_c,N);\n",
        "  cudaDeviceSynchronize();\n",
        "  \n",
        "  cudaMemcpy(c,d_c,sizeof(int)*N,cudaMemcpyDeviceToHost);\n",
        "  \n",
        "  for(int i=0;i<N;i++)\n",
        "  {\n",
        "      printf(\"%d\\t\",c[i]);\n",
        "  }\n",
        "   \n",
        "  //printf(\"\\n\");\n",
        "  \n",
        "  cudaFree(d_a);\n",
        "  cudaFree(d_b);\n",
        "  cudaFree(d_c);\n",
        "  \n",
        "  free(a);\n",
        "  free(b);\n",
        "  free(c);\n",
        "}\n"
      ],
      "execution_count": 0,
      "outputs": [
        {
          "output_type": "stream",
          "text": [
            "0\t1\t2\t3\t\n",
            "1\t2\t3\t4\t\n",
            "1\t3\t5\t7\t\n"
          ],
          "name": "stdout"
        }
      ]
    },
    {
      "cell_type": "code",
      "metadata": {
        "id": "IuuyARHZenM7",
        "colab_type": "code",
        "outputId": "b08c50d4-28b0-42b0-b4b4-43227dc60a0b",
        "colab": {
          "base_uri": "https://localhost:8080/",
          "height": 136
        }
      },
      "source": [
        "%%cu\n",
        "\n",
        "#include<stdio.h>\n",
        "#define N 4\n",
        "\n",
        "//matrix_vector\n",
        "\n",
        "__global__ void vec_mat(int *a,int *b,int *c)\n",
        "{\n",
        "    int id=threadIdx.x;\n",
        "    \n",
        "    for(int i=0;i<N;i++)\n",
        "      c[id]=c[id]+ (a[i]* *(b+ N*id+ i));\n",
        "    \n",
        "}\n",
        "\n",
        "int main()\n",
        "{\n",
        "  int* a;\n",
        "  int* b;\n",
        "  int* c;\n",
        "  \n",
        "  a=(int *)malloc(sizeof(int)*N);\n",
        "  b=(int *)malloc(sizeof(int)*N*N);\n",
        "  c=(int *)malloc(sizeof(int)*N);\n",
        "  \n",
        "  for(int i=0;i<N;i++)\n",
        "  {\n",
        "      a[i]=i;\n",
        "  }\n",
        "    \n",
        "  for(int i=0;i<N;i++)\n",
        "  {\n",
        "      for(int j=0;j<N;j++)\n",
        "      {\n",
        "          *(b + i*N+ j)=i+j;\n",
        "      }\n",
        "  }\n",
        "  \n",
        "  for(int i=0;i<N;i++)\n",
        "  {\n",
        "      printf(\"%d\\t\",a[i]);\n",
        "  }\n",
        "   \n",
        "  printf(\"\\n\");\n",
        "  \n",
        "  for(int i=0;i<N;i++)\n",
        "  {\n",
        "      for(int j=0;j<N;j++)\n",
        "      {\n",
        "          printf(\"%d\\t\",*(b + i*N+ j));\n",
        "      }\n",
        "      printf(\"\\n\");\n",
        "  }\n",
        "   \n",
        "  printf(\"\\n\");\n",
        "  \n",
        "  \n",
        "  int* d_a;\n",
        "  int* d_b;\n",
        "  int* d_c; \n",
        "  cudaMalloc(&d_a,sizeof(int)*N);\n",
        "  cudaMalloc(&d_b,sizeof(int)*N*N);\n",
        "  cudaMalloc(&d_c,sizeof(int)*N);\n",
        "   \n",
        "  cudaMemcpy(d_a,a,sizeof(int)*N,cudaMemcpyHostToDevice);\n",
        "  cudaMemcpy(d_b,b,sizeof(int)*N*N,cudaMemcpyHostToDevice);\n",
        "  \n",
        "  vec_mat <<<1,N>>> (d_a,d_b,d_c);\n",
        "  cudaDeviceSynchronize();\n",
        "  \n",
        "  cudaMemcpy(c,d_c,sizeof(int)*N,cudaMemcpyDeviceToHost);\n",
        "  \n",
        "  for(int i=0;i<N;i++)\n",
        "  {\n",
        "      printf(\"%d\\t\",c[i]);\n",
        "  }\n",
        "   \n",
        "  //printf(\"\\n\");\n",
        "  \n",
        "  cudaFree(d_a);\n",
        "  cudaFree(d_b);\n",
        "  cudaFree(d_c);\n",
        "  \n",
        "  free(a);\n",
        "  free(b);\n",
        "  free(c);\n",
        "}\n"
      ],
      "execution_count": 0,
      "outputs": [
        {
          "output_type": "stream",
          "text": [
            "0\t1\t2\t3\t\n",
            "0\t1\t2\t3\t\n",
            "1\t2\t3\t4\t\n",
            "2\t3\t4\t5\t\n",
            "3\t4\t5\t6\t\n",
            "\n",
            "14\t20\t26\t32\t\n"
          ],
          "name": "stdout"
        }
      ]
    },
    {
      "cell_type": "code",
      "metadata": {
        "id": "mYx6nwbuqIUg",
        "colab_type": "code",
        "outputId": "cfd83f97-5ffb-48d6-ffd7-2cc33ea3d00e",
        "colab": {
          "base_uri": "https://localhost:8080/",
          "height": 221
        }
      },
      "source": [
        "%%cu\n",
        "\n",
        "#include<stdio.h>\n",
        "#define N 3\n",
        "\n",
        "//matrix_mul\n",
        "\n",
        "__global__ void matmul(int *a,int *b,int *c)\n",
        "{\n",
        "    int tx=threadIdx.x;\n",
        "    int ty=threadIdx.y;\n",
        "    int res=0;\n",
        "    for(int i=0;i<N;i++)\n",
        "    {\n",
        "        int p= *(a+ ty*N +i);\n",
        "        int q= *(b+ N*i + tx);\n",
        "        res+=p*q;\n",
        "    }\n",
        "    *(c + N*ty+ tx)=res;\n",
        "}\n",
        "\n",
        "int main()\n",
        "{\n",
        "  int* a;\n",
        "  int* b;\n",
        "  int* c;\n",
        "  \n",
        "  a=(int *)malloc(sizeof(int)*N*N);\n",
        "  b=(int *)malloc(sizeof(int)*N*N);\n",
        "  c=(int *)malloc(sizeof(int)*N*N);\n",
        "    \n",
        "  for(int i=0;i<N;i++)\n",
        "  {\n",
        "      for(int j=0;j<N;j++)\n",
        "      {\n",
        "          *(b + i*N+ j)=i+j;\n",
        "          *(a + i*N+ j)=i;\n",
        "      }\n",
        "  }\n",
        "  \n",
        "  for(int i=0;i<N;i++)\n",
        "  {\n",
        "      for(int j=0;j<N;j++)\n",
        "      {\n",
        "          printf(\"%d\\t\",*(a + i*N+ j));\n",
        "      }\n",
        "      printf(\"\\n\");\n",
        "  }\n",
        "    \n",
        "  printf(\"\\n\");\n",
        "  \n",
        "  for(int i=0;i<N;i++)\n",
        "  {\n",
        "      for(int j=0;j<N;j++)\n",
        "      {\n",
        "          printf(\"%d\\t\",*(b + i*N+ j));\n",
        "      }\n",
        "      printf(\"\\n\");\n",
        "  }\n",
        "   \n",
        "  printf(\"\\n\");\n",
        "  \n",
        "  \n",
        "  int* d_a;\n",
        "  int* d_b;\n",
        "  int* d_c; \n",
        "  cudaMalloc(&d_a,sizeof(int)*N*N);\n",
        "  cudaMalloc(&d_b,sizeof(int)*N*N);\n",
        "  cudaMalloc(&d_c,sizeof(int)*N*N);\n",
        "   \n",
        "  cudaMemcpy(d_a,a,sizeof(int)*N*N,cudaMemcpyHostToDevice);\n",
        "  cudaMemcpy(d_b,b,sizeof(int)*N*N,cudaMemcpyHostToDevice);\n",
        "  \n",
        "  dim3 grid(N,N);\n",
        "  matmul <<<1,grid>>> (d_a,d_b,d_c);\n",
        "  cudaDeviceSynchronize();\n",
        "  \n",
        "  cudaMemcpy(c,d_c,sizeof(int)*N*N,cudaMemcpyDeviceToHost);\n",
        "  \n",
        "  for(int i=0;i<N;i++)\n",
        "  {\n",
        "      for(int j=0;j<N;j++)\n",
        "      {\n",
        "          printf(\"%d\\t\",*(c + i*N+ j));\n",
        "      }\n",
        "      printf(\"\\n\");\n",
        "  }\n",
        "  \n",
        "  cudaFree(d_a);\n",
        "  cudaFree(d_b);\n",
        "  cudaFree(d_c);\n",
        "  \n",
        "  free(a);\n",
        "  free(b);\n",
        "  free(c);\n",
        "}\n"
      ],
      "execution_count": 0,
      "outputs": [
        {
          "output_type": "stream",
          "text": [
            "0\t0\t0\t\n",
            "1\t1\t1\t\n",
            "2\t2\t2\t\n",
            "\n",
            "0\t1\t2\t\n",
            "1\t2\t3\t\n",
            "2\t3\t4\t\n",
            "\n",
            "0\t0\t0\t\n",
            "3\t6\t9\t\n",
            "6\t12\t18\t\n",
            "\n"
          ],
          "name": "stdout"
        }
      ]
    },
    {
      "cell_type": "code",
      "metadata": {
        "id": "HIOVdHsjvmHY",
        "colab_type": "code",
        "colab": {}
      },
      "source": [
        ""
      ],
      "execution_count": 0,
      "outputs": []
    }
  ]
}
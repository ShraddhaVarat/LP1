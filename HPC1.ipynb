{
  "nbformat": 4,
  "nbformat_minor": 0,
  "metadata": {
    "colab": {
      "name": "HPC1.ipynb",
      "provenance": []
    },
    "kernelspec": {
      "name": "python3",
      "display_name": "Python 3"
    },
    "accelerator": "GPU"
  },
  "cells": [
    {
      "cell_type": "code",
      "metadata": {
        "id": "NhrYVXXow1qh",
        "colab_type": "code",
        "outputId": "036fcd71-36ad-4b58-e33c-4ff35bb4b2f7",
        "colab": {
          "base_uri": "https://localhost:8080/",
          "height": 85
        }
      },
      "source": [
        "!nvcc --version"
      ],
      "execution_count": 0,
      "outputs": [
        {
          "output_type": "stream",
          "text": [
            "nvcc: NVIDIA (R) Cuda compiler driver\n",
            "Copyright (c) 2005-2018 NVIDIA Corporation\n",
            "Built on Sat_Aug_25_21:08:01_CDT_2018\n",
            "Cuda compilation tools, release 10.0, V10.0.130\n"
          ],
          "name": "stdout"
        }
      ]
    },
    {
      "cell_type": "code",
      "metadata": {
        "id": "4HDnweNww91g",
        "colab_type": "code",
        "outputId": "1d00e132-2fa6-4080-cf09-4489fc22e0aa",
        "colab": {
          "base_uri": "https://localhost:8080/",
          "height": 207
        }
      },
      "source": [
        "!pip install git+git://github.com/andreinechaev/nvcc4jupyter.git"
      ],
      "execution_count": 0,
      "outputs": [
        {
          "output_type": "stream",
          "text": [
            "Collecting git+git://github.com/andreinechaev/nvcc4jupyter.git\n",
            "  Cloning git://github.com/andreinechaev/nvcc4jupyter.git to /tmp/pip-req-build-15_8h90c\n",
            "  Running command git clone -q git://github.com/andreinechaev/nvcc4jupyter.git /tmp/pip-req-build-15_8h90c\n",
            "Building wheels for collected packages: NVCCPlugin\n",
            "  Building wheel for NVCCPlugin (setup.py) ... \u001b[?25l\u001b[?25hdone\n",
            "  Created wheel for NVCCPlugin: filename=NVCCPlugin-0.0.2-cp36-none-any.whl size=4307 sha256=99fc0246fd10d6e8635bfa5c96dfbb82e21673a3efd4fd23a7a32fd674877f81\n",
            "  Stored in directory: /tmp/pip-ephem-wheel-cache-cdy4yoyz/wheels/10/c2/05/ca241da37bff77d60d31a9174f988109c61ba989e4d4650516\n",
            "Successfully built NVCCPlugin\n",
            "Installing collected packages: NVCCPlugin\n",
            "Successfully installed NVCCPlugin-0.0.2\n"
          ],
          "name": "stdout"
        }
      ]
    },
    {
      "cell_type": "code",
      "metadata": {
        "id": "PnvgSnKxxCg0",
        "colab_type": "code",
        "outputId": "5a34379d-2e1a-4ec8-ce77-2aa9f7ec9b54",
        "colab": {
          "base_uri": "https://localhost:8080/",
          "height": 51
        }
      },
      "source": [
        "%load_ext nvcc_plugin"
      ],
      "execution_count": 0,
      "outputs": [
        {
          "output_type": "stream",
          "text": [
            "created output directory at /content/src\n",
            "Out bin /content/result.out\n"
          ],
          "name": "stdout"
        }
      ]
    },
    {
      "cell_type": "code",
      "metadata": {
        "id": "vkWJzohVxFGG",
        "colab_type": "code",
        "outputId": "ad12ad9d-dfe0-43d7-e442-71e875713d56",
        "colab": {
          "base_uri": "https://localhost:8080/",
          "height": 34
        }
      },
      "source": [
        "%%cu\n",
        "\n",
        "#include<stdio.h>\n",
        "#define N 8\n",
        "\n",
        "__global__ void min(int *a)\n",
        "{\n",
        "    int step=1;\n",
        "    int num_th=blockDim.x;\n",
        "    int id=threadIdx.x;\n",
        "    \n",
        "    while(num_th>0)\n",
        "    {\n",
        "        if(id<num_th) //is alive\n",
        "        {\n",
        "            int fst=id*step*2;\n",
        "            int snd=fst+step;\n",
        "            if(a[fst]>a[snd])\n",
        "              a[fst]=a[snd];\n",
        "        }\n",
        "        step<<=1;\n",
        "        num_th>>=1;\n",
        "    }\n",
        "}\n",
        "\n",
        "int main()\n",
        "{\n",
        "    int *a;\n",
        "    a=(int *)malloc(sizeof(int)*N);\n",
        "    \n",
        "    for(int i=0;i<N;i++)\n",
        "    {\n",
        "        a[i]=rand()%N;\n",
        "    }\n",
        "    \n",
        "    for(int i=0;i<N;i++)\n",
        "    {\n",
        "        printf(\"%d\\t\",a[i]);\n",
        "    }\n",
        "    \n",
        "    int *da;\n",
        "    cudaMalloc(&da,sizeof(int)*N);\n",
        "    \n",
        "    cudaMemcpy(da,a,sizeof(int)*N,cudaMemcpyHostToDevice);\n",
        "    min<<<1,N/2>>>(da);\n",
        "    \n",
        "    cudaDeviceSynchronize();\n",
        "    cudaMemcpy(a,da,sizeof(int)*N,cudaMemcpyDeviceToHost);\n",
        "    \n",
        "    printf(\"min: %d\",a[0]);\n",
        "}"
      ],
      "execution_count": 0,
      "outputs": [
        {
          "output_type": "stream",
          "text": [
            "7\t6\t1\t3\t1\t7\t2\t4\tmin: 1\n"
          ],
          "name": "stdout"
        }
      ]
    },
    {
      "cell_type": "code",
      "metadata": {
        "id": "XqWyqJqL34ov",
        "colab_type": "code",
        "outputId": "8783d5b5-398a-4b14-f5f5-b0df3d9d08c3",
        "colab": {
          "base_uri": "https://localhost:8080/",
          "height": 34
        }
      },
      "source": [
        "%%cu\n",
        "\n",
        "#include<stdio.h>\n",
        "#define N 8\n",
        "\n",
        "__global__ void max(int *a)\n",
        "{\n",
        "    int step=1;\n",
        "    int num_th=blockDim.x;\n",
        "    int id=threadIdx.x;\n",
        "    \n",
        "    while(num_th>0)\n",
        "    {\n",
        "        if(id<num_th) //is alive\n",
        "        {\n",
        "            int fst=id*step*2;\n",
        "            int snd=fst+step;\n",
        "            if(a[fst]<a[snd])\n",
        "              a[fst]=a[snd];\n",
        "        }\n",
        "        step<<=1;\n",
        "        num_th>>=1;\n",
        "    }\n",
        "}\n",
        "\n",
        "int main()\n",
        "{\n",
        "    int *a;\n",
        "    a=(int *)malloc(sizeof(int)*N);\n",
        "    \n",
        "    for(int i=0;i<N;i++)\n",
        "    {\n",
        "        a[i]=rand()%N;\n",
        "    }\n",
        "    \n",
        "    for(int i=0;i<N;i++)\n",
        "    {\n",
        "        printf(\"%d\\t\",a[i]);\n",
        "    }\n",
        "    \n",
        "    int *da;\n",
        "    cudaMalloc(&da,sizeof(int)*N);\n",
        "    \n",
        "    cudaMemcpy(da,a,sizeof(int)*N,cudaMemcpyHostToDevice);\n",
        "    max<<<1,N/2>>>(da);\n",
        "    \n",
        "    cudaDeviceSynchronize();\n",
        "    cudaMemcpy(a,da,sizeof(int)*N,cudaMemcpyDeviceToHost);\n",
        "    \n",
        "    printf(\"max: %d\",a[0]);\n",
        "}"
      ],
      "execution_count": 0,
      "outputs": [
        {
          "output_type": "stream",
          "text": [
            "7\t6\t1\t3\t1\t7\t2\t4\tmax: 7\n"
          ],
          "name": "stdout"
        }
      ]
    },
    {
      "cell_type": "code",
      "metadata": {
        "id": "2_d4y2JY4XZY",
        "colab_type": "code",
        "outputId": "2ba2ead8-8665-468e-cb02-8e3cb22e482e",
        "colab": {
          "base_uri": "https://localhost:8080/",
          "height": 34
        }
      },
      "source": [
        "%%cu\n",
        "\n",
        "#include<stdio.h>\n",
        "#define N 4\n",
        "\n",
        "__global__ void sum(int *a)\n",
        "{\n",
        "    int step=1;\n",
        "    int num_th=blockDim.x;\n",
        "    int id=threadIdx.x;\n",
        "    \n",
        "    while(num_th>0)\n",
        "    {\n",
        "        if(id<num_th) //is alive\n",
        "        {\n",
        "            int fst=id*step*2;\n",
        "            int snd=fst+step;\n",
        "            \n",
        "            a[fst]+=a[snd];\n",
        "        }\n",
        "        step<<=1;\n",
        "        num_th>>=1;\n",
        "    }\n",
        "}\n",
        "\n",
        "int main()\n",
        "{\n",
        "    int *a;\n",
        "    a=(int *)malloc(sizeof(int)*N);\n",
        "    \n",
        "    for(int i=0;i<N;i++)\n",
        "    {\n",
        "        a[i]=rand()%N;\n",
        "    }\n",
        "    \n",
        "    for(int i=0;i<N;i++)\n",
        "    {\n",
        "        printf(\"%d\\t\",a[i]);\n",
        "    }\n",
        "    \n",
        "    int *da;\n",
        "    cudaMalloc(&da,sizeof(int)*N);\n",
        "    \n",
        "    cudaMemcpy(da,a,sizeof(int)*N,cudaMemcpyHostToDevice);\n",
        "    sum<<<1,N/2>>>(da);\n",
        "    \n",
        "    cudaDeviceSynchronize();\n",
        "    cudaMemcpy(a,da,sizeof(int)*N,cudaMemcpyDeviceToHost);\n",
        "    \n",
        "    printf(\"sum: %d\",a[0]);\n",
        "}"
      ],
      "execution_count": 0,
      "outputs": [
        {
          "output_type": "stream",
          "text": [
            "3\t2\t1\t3\tsum: 9\n"
          ],
          "name": "stdout"
        }
      ]
    },
    {
      "cell_type": "code",
      "metadata": {
        "id": "gT2MbMap4xB2",
        "colab_type": "code",
        "outputId": "9b893424-2cc7-4a29-d8e4-cd7edd591b85",
        "colab": {
          "base_uri": "https://localhost:8080/",
          "height": 34
        }
      },
      "source": [
        "%%cu\n",
        "\n",
        "#include<stdio.h>\n",
        "#define N 4\n",
        "\n",
        "__global__ void sum(int *a)\n",
        "{\n",
        "    int step=1;\n",
        "    int num_th=blockDim.x;\n",
        "    int id=threadIdx.x;\n",
        "    \n",
        "    while(num_th>0)\n",
        "    {\n",
        "        if(id<num_th) //is alive\n",
        "        {\n",
        "            int fst=id*step*2;\n",
        "            int snd=fst+step;\n",
        "            \n",
        "            a[fst]+=a[snd];\n",
        "        }\n",
        "        step<<=1;\n",
        "        num_th>>=1;\n",
        "    }\n",
        "}\n",
        "\n",
        "int main()\n",
        "{\n",
        "    int *a;\n",
        "    a=(int *)malloc(sizeof(int)*N);\n",
        "    \n",
        "    for(int i=0;i<N;i++)\n",
        "    {\n",
        "        a[i]=rand()%N;\n",
        "    }\n",
        "    \n",
        "    for(int i=0;i<N;i++)\n",
        "    {\n",
        "        printf(\"%d\\t\",a[i]);\n",
        "    }\n",
        "    \n",
        "    int *da;\n",
        "    cudaMalloc(&da,sizeof(int)*N);\n",
        "    \n",
        "    cudaMemcpy(da,a,sizeof(int)*N,cudaMemcpyHostToDevice);\n",
        "    sum<<<1,N/2>>>(da);\n",
        "    \n",
        "    cudaDeviceSynchronize();\n",
        "    cudaMemcpy(a,da,sizeof(int)*N,cudaMemcpyDeviceToHost);\n",
        "    \n",
        "    printf(\"avg: %f\",a[0]/(float)N);\n",
        "}"
      ],
      "execution_count": 0,
      "outputs": [
        {
          "output_type": "stream",
          "text": [
            "3\t2\t1\t3\tavg: 2.250000\n"
          ],
          "name": "stdout"
        }
      ]
    },
    {
      "cell_type": "code",
      "metadata": {
        "id": "HJUmo_sq45BV",
        "colab_type": "code",
        "colab": {}
      },
      "source": [
        ""
      ],
      "execution_count": 0,
      "outputs": []
    }
  ]
}